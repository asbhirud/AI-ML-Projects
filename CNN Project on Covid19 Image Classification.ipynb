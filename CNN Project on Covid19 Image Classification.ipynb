{
 "cells": [
  {
   "cell_type": "code",
   "execution_count": 1,
   "id": "75dcb2ac-7e2c-4416-ad51-d9aa305ce803",
   "metadata": {},
   "outputs": [],
   "source": [
    "import numpy as np\n",
    "import tensorflow as tf\n",
    "from tensorflow.keras.preprocessing.image import ImageDataGenerator\n",
    "from tensorflow.keras.models import Sequential\n",
    "from tensorflow.keras.layers import Conv2D, MaxPool2D, Flatten, Dense\n",
    "import os\n",
    "import warnings\n",
    "warnings.filterwarnings(\"ignore\")"
   ]
  },
  {
   "cell_type": "code",
   "execution_count": 2,
   "id": "6449efa1-6690-48af-a9ae-5da0707e4bb5",
   "metadata": {},
   "outputs": [],
   "source": [
    "train_dir = \"Covid19-dataset/train\"\n",
    "test_dir = \"Covid19-dataset/test\""
   ]
  },
  {
   "cell_type": "code",
   "execution_count": 3,
   "id": "0a17b715-d084-485f-b584-dc30e26d291b",
   "metadata": {},
   "outputs": [],
   "source": [
    "img_width, img_height = 512, 512"
   ]
  },
  {
   "cell_type": "code",
   "execution_count": 4,
   "id": "195ae812-b0f1-4c75-a1cb-2d6db9d14692",
   "metadata": {},
   "outputs": [],
   "source": [
    "batch_size = 32"
   ]
  },
  {
   "cell_type": "code",
   "execution_count": 5,
   "id": "ab8c69f6-093b-4a95-944b-5c9eb16b2478",
   "metadata": {},
   "outputs": [],
   "source": [
    "train_dataset = ImageDataGenerator(\n",
    "    rescale=1. / 255,\n",
    "    rotation_range=20,\n",
    "    width_shift_range=0.2,\n",
    "    height_shift_range=0.2,\n",
    "    shear_range=0.2,\n",
    "    zoom_range=0.2,\n",
    "    horizontal_flip=True\n",
    ")"
   ]
  },
  {
   "cell_type": "code",
   "execution_count": 6,
   "id": "f774eb51-338b-45c9-bade-b5a522119ac5",
   "metadata": {},
   "outputs": [],
   "source": [
    "test_dataset = ImageDataGenerator(rescale=1./255)"
   ]
  },
  {
   "cell_type": "code",
   "execution_count": 7,
   "id": "7a5f1c82-3d07-42f9-bca3-09f25c85f4c4",
   "metadata": {},
   "outputs": [
    {
     "name": "stdout",
     "output_type": "stream",
     "text": [
      "Found 251 images belonging to 3 classes.\n"
     ]
    }
   ],
   "source": [
    "X_train = train_dataset.flow_from_directory(\n",
    "    train_dir,\n",
    "    target_size=(img_width, img_height),\n",
    "    batch_size=batch_size,\n",
    "    class_mode=\"categorical\"\n",
    ")"
   ]
  },
  {
   "cell_type": "code",
   "execution_count": 8,
   "id": "0705888c-e9d2-43d5-a98f-c77c6e5161cf",
   "metadata": {},
   "outputs": [
    {
     "name": "stdout",
     "output_type": "stream",
     "text": [
      "Found 66 images belonging to 3 classes.\n"
     ]
    }
   ],
   "source": [
    "X_test = test_dataset.flow_from_directory(\n",
    "    test_dir,\n",
    "    target_size=(img_width, img_height),\n",
    "    batch_size=batch_size,\n",
    "    class_mode=\"categorical\"\n",
    ")"
   ]
  },
  {
   "cell_type": "code",
   "execution_count": 9,
   "id": "9f04130c-a28c-4b6c-94c7-b000aebd91eb",
   "metadata": {},
   "outputs": [],
   "source": [
    "model = Sequential([\n",
    "    Conv2D(32, (3, 3), activation=\"relu\", input_shape=(img_width, img_height, 3)),\n",
    "    MaxPool2D((2, 2)),\n",
    "    Conv2D(64, (3, 3), activation=\"relu\"),\n",
    "    MaxPool2D((2, 2)),\n",
    "    Conv2D(128, (3, 3), activation=\"relu\"),\n",
    "    MaxPool2D((2, 2)),\n",
    "    Conv2D(128, (3, 3), activation=\"relu\"),\n",
    "    MaxPool2D((2, 2)),\n",
    "    Flatten(),\n",
    "    Dense(512, activation=\"relu\"),\n",
    "    Dense(256, activation=\"relu\"),\n",
    "    Dense(3, activation=\"softmax\")\n",
    "])"
   ]
  },
  {
   "cell_type": "code",
   "execution_count": 10,
   "id": "b3407653-21be-4ef6-90f8-91ae432b7006",
   "metadata": {},
   "outputs": [],
   "source": [
    "model.compile(optimizer=\"adam\", loss=\"categorical_crossentropy\", metrics=[\"accuracy\"])"
   ]
  },
  {
   "cell_type": "code",
   "execution_count": null,
   "id": "d05851ec-0d48-4549-a435-6dfa9cdfaff4",
   "metadata": {},
   "outputs": [
    {
     "name": "stdout",
     "output_type": "stream",
     "text": [
      "Epoch 1/30\n",
      "\u001b[1m8/8\u001b[0m \u001b[32m━━━━━━━━━━━━━━━━━━━━\u001b[0m\u001b[37m\u001b[0m \u001b[1m508s\u001b[0m 56s/step - accuracy: 0.3627 - loss: 2.1268 - val_accuracy: 0.3939 - val_loss: 1.1960\n",
      "Epoch 2/30\n",
      "\u001b[1m8/8\u001b[0m \u001b[32m━━━━━━━━━━━━━━━━━━━━\u001b[0m\u001b[37m\u001b[0m \u001b[1m508s\u001b[0m 36s/step - accuracy: 0.5644 - loss: 0.9447 - val_accuracy: 0.6818 - val_loss: 1.1807\n",
      "Epoch 3/30\n"
     ]
    }
   ],
   "source": [
    "history = model.fit(X_train, epochs=30, validation_data=X_test)"
   ]
  },
  {
   "cell_type": "code",
   "execution_count": null,
   "id": "5e03e1ab-efe2-41cc-b66d-031c2c332aab",
   "metadata": {},
   "outputs": [],
   "source": [
    "import matplotlib.pyplot as plt"
   ]
  },
  {
   "cell_type": "code",
   "execution_count": null,
   "id": "303b9433-3198-4806-b872-a773d648899a",
   "metadata": {},
   "outputs": [],
   "source": [
    "plt.plot(history.history[\"accuracy\"])\n",
    "plt.plot(history.history[\"val_accuracy\"])\n",
    "plt.title(\"Model Accuracy\")\n",
    "plt.xlabel(\"Epochs\")\n",
    "plt.ylabel(\"Accuracy\")\n",
    "plt.legend([\"Train\", \"Validation\"])\n",
    "plt.show()"
   ]
  },
  {
   "cell_type": "code",
   "execution_count": null,
   "id": "bfdba142-3d10-4dab-b68d-111389942a72",
   "metadata": {},
   "outputs": [],
   "source": [
    "plt.plot(history.history[\"loss\"])\n",
    "plt.plot(history.history[\"val_loss\"])\n",
    "plt.title(\"Model Loss\")\n",
    "plt.xlabel(\"Epochs\")\n",
    "plt.ylabel(\"Loss\")\n",
    "plt.legend([\"Train\", \"Validation\"])\n",
    "plt.show()"
   ]
  },
  {
   "cell_type": "code",
   "execution_count": null,
   "id": "fa80ca7c-ad92-45dc-9005-845b3b2b3d70",
   "metadata": {},
   "outputs": [],
   "source": [
    "class_labels = X_train.class_indices"
   ]
  },
  {
   "cell_type": "code",
   "execution_count": null,
   "id": "45d0df6a-4161-4184-a779-65df95501027",
   "metadata": {},
   "outputs": [],
   "source": [
    "class_names = {value: key for key, value in class_labels.items()}\n",
    "print(\"Class Names:\", class_names)"
   ]
  },
  {
   "cell_type": "code",
   "execution_count": null,
   "id": "f77b5c33-8879-44c3-829c-3d9cf1d5f0f5",
   "metadata": {},
   "outputs": [],
   "source": [
    "from tensorflow.keras.preprocessing import image"
   ]
  },
  {
   "cell_type": "code",
   "execution_count": null,
   "id": "4a41aaea-5465-4d30-9558-45baef8e5376",
   "metadata": {},
   "outputs": [],
   "source": [
    "img_path = r\"C:\\Users\\Soft\\Desktop\\Py\\Docs\\test_img.jpeg\""
   ]
  },
  {
   "cell_type": "code",
   "execution_count": null,
   "id": "047d6aaf-bd8f-4e39-9d30-d621c721dda3",
   "metadata": {},
   "outputs": [],
   "source": [
    "img = image.load_img(img_path, target_size=(img_width, img_height))"
   ]
  },
  {
   "cell_type": "code",
   "execution_count": null,
   "id": "19c97a2f-db0e-4e23-a9c2-2f28158bdc6d",
   "metadata": {},
   "outputs": [],
   "source": [
    "img_arr = image.img_to_array(img)"
   ]
  },
  {
   "cell_type": "code",
   "execution_count": null,
   "id": "472b7ab7-05bd-48eb-ba42-b7be8ed41e7b",
   "metadata": {},
   "outputs": [],
   "source": [
    "img_arr = np.expand_dims(img_arr, axis=0)"
   ]
  },
  {
   "cell_type": "code",
   "execution_count": null,
   "id": "fd748fe3-f41b-43a7-844e-6e98ffb02230",
   "metadata": {},
   "outputs": [],
   "source": [
    "img_arr = img_arr / 255.0"
   ]
  },
  {
   "cell_type": "code",
   "execution_count": null,
   "id": "dcbb7a83-f345-4724-99b3-534c0b22d92b",
   "metadata": {},
   "outputs": [],
   "source": [
    "pred = model.predict(img_arr)"
   ]
  },
  {
   "cell_type": "code",
   "execution_count": null,
   "id": "507c479f-9918-4d30-90c6-e9689ee11363",
   "metadata": {},
   "outputs": [],
   "source": [
    "pred_class = np.argmax(pred)"
   ]
  },
  {
   "cell_type": "code",
   "execution_count": null,
   "id": "e80b2165-4ef3-414a-9900-767120f6a665",
   "metadata": {},
   "outputs": [],
   "source": [
    "class_names[pred_class]"
   ]
  },
  {
   "cell_type": "code",
   "execution_count": null,
   "id": "6f7caf4f-b1ac-4cdd-a7eb-630fa1621b8c",
   "metadata": {},
   "outputs": [],
   "source": []
  }
 ],
 "metadata": {
  "kernelspec": {
   "display_name": "Python 3 (ipykernel)",
   "language": "python",
   "name": "python3"
  },
  "language_info": {
   "codemirror_mode": {
    "name": "ipython",
    "version": 3
   },
   "file_extension": ".py",
   "mimetype": "text/x-python",
   "name": "python",
   "nbconvert_exporter": "python",
   "pygments_lexer": "ipython3",
   "version": "3.12.0"
  },
  "widgets": {
   "application/vnd.jupyter.widget-state+json": {
    "state": {},
    "version_major": 2,
    "version_minor": 0
   }
  }
 },
 "nbformat": 4,
 "nbformat_minor": 5
}
