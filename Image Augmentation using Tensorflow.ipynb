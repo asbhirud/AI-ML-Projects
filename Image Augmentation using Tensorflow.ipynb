{
 "cells": [
  {
   "cell_type": "code",
   "execution_count": 1,
   "id": "682ee4e7-145f-4d18-8a3b-97508455969b",
   "metadata": {},
   "outputs": [
    {
     "name": "stdout",
     "output_type": "stream",
     "text": [
      "WARNING:tensorflow:From C:\\Users\\Soft\\AppData\\Local\\Programs\\Python\\Python311\\Lib\\site-packages\\keras\\src\\losses.py:2976: The name tf.losses.sparse_softmax_cross_entropy is deprecated. Please use tf.compat.v1.losses.sparse_softmax_cross_entropy instead.\n",
      "\n"
     ]
    }
   ],
   "source": [
    "import tensorflow as tf\n",
    "from tensorflow.keras.preprocessing.image import ImageDataGenerator\n",
    "import os"
   ]
  },
  {
   "cell_type": "code",
   "execution_count": 2,
   "id": "4c53aa53-a576-4146-b9c8-961f9a44eeba",
   "metadata": {},
   "outputs": [],
   "source": [
    "original_img = r\"C:\\Users\\Soft\\Desktop\\Py\\AI 1019\\Image\""
   ]
  },
  {
   "cell_type": "code",
   "execution_count": 3,
   "id": "8f640430-eda5-46cf-9934-f14ba7192581",
   "metadata": {},
   "outputs": [],
   "source": [
    "augmented_img = r\"C:\\Users\\Soft\\Desktop\\Py\\AI 1019\\Augmented\""
   ]
  },
  {
   "cell_type": "code",
   "execution_count": 4,
   "id": "66abe62c-d2bb-4d77-ae7c-ae75119e7d39",
   "metadata": {},
   "outputs": [],
   "source": [
    "os.makedirs(augmented_img, exist_ok=True)"
   ]
  },
  {
   "cell_type": "code",
   "execution_count": 5,
   "id": "ae812fa7-f26c-4419-a55b-2d0f52f8538c",
   "metadata": {},
   "outputs": [],
   "source": [
    "datagen = ImageDataGenerator(\n",
    "    rotation_range=20,\n",
    "    width_shift_range=0.1,\n",
    "    height_shift_range=0.1,\n",
    "    shear_range=0.2,\n",
    "    zoom_range=0.2,\n",
    "    horizontal_flip=True,\n",
    "    fill_mode=\"nearest\"\n",
    ")"
   ]
  },
  {
   "cell_type": "code",
   "execution_count": 7,
   "id": "afe5dda3-7ed8-48cb-b7fc-496d836a4c4f",
   "metadata": {},
   "outputs": [],
   "source": [
    "image_files = [os.path.join(original_img, f) \n",
    "               for f in os.listdir(original_img) \n",
    "               if (os.path.isfile(os.path.join(original_img, f)))]"
   ]
  },
  {
   "cell_type": "code",
   "execution_count": 8,
   "id": "55bd265b-e2ce-46d8-90a3-af12e8cc0829",
   "metadata": {},
   "outputs": [],
   "source": [
    "for img_path in image_files:\n",
    "    img = tf.keras.preprocessing.image.load_img(img_path)\n",
    "    x = tf.keras.preprocessing.image.img_to_array(img)\n",
    "    x = x.reshape((1, )+x.shape)\n",
    "\n",
    "    i=0\n",
    "    for batch in datagen.flow(x, batch_size=1, \n",
    "                              save_to_dir=augmented_img, save_prefix=\"aug\", save_format=\"jpg\"):\n",
    "        i+=1\n",
    "        if i>=10:\n",
    "            break"
   ]
  },
  {
   "cell_type": "code",
   "execution_count": 9,
   "id": "1ee3ad0b-39dd-4e45-88cf-67d12dcdd694",
   "metadata": {},
   "outputs": [
    {
     "data": {
      "text/plain": [
       "['C:\\\\Users\\\\Soft\\\\Desktop\\\\Py\\\\AI 1019\\\\Image\\\\animal.jpg']"
      ]
     },
     "execution_count": 9,
     "metadata": {},
     "output_type": "execute_result"
    }
   ],
   "source": [
    "image_files"
   ]
  },
  {
   "cell_type": "code",
   "execution_count": null,
   "id": "6a6b7b4f-6014-4134-bd11-ffbf886c6fbc",
   "metadata": {},
   "outputs": [],
   "source": []
  }
 ],
 "metadata": {
  "kernelspec": {
   "display_name": "Python 3 (ipykernel)",
   "language": "python",
   "name": "python3"
  },
  "language_info": {
   "codemirror_mode": {
    "name": "ipython",
    "version": 3
   },
   "file_extension": ".py",
   "mimetype": "text/x-python",
   "name": "python",
   "nbconvert_exporter": "python",
   "pygments_lexer": "ipython3",
   "version": "3.12.0"
  },
  "widgets": {
   "application/vnd.jupyter.widget-state+json": {
    "state": {},
    "version_major": 2,
    "version_minor": 0
   }
  }
 },
 "nbformat": 4,
 "nbformat_minor": 5
}
