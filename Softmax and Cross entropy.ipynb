{
 "cells": [
  {
   "cell_type": "code",
   "execution_count": 1,
   "id": "d8ff2345-ba75-41b9-b11f-77d2bb99bdf3",
   "metadata": {},
   "outputs": [],
   "source": [
    "import numpy as np"
   ]
  },
  {
   "cell_type": "code",
   "execution_count": 2,
   "id": "9e3f8035-5e70-4213-b35b-fe0ea6004b82",
   "metadata": {},
   "outputs": [],
   "source": [
    "arr = [1, 5, 6, 4, 2, 2.6]"
   ]
  },
  {
   "cell_type": "code",
   "execution_count": 4,
   "id": "b56df87e-e839-43f0-9f78-d2e13b1167ec",
   "metadata": {},
   "outputs": [],
   "source": [
    "softmax = np.exp(arr)/np.sum(np.exp(arr))"
   ]
  },
  {
   "cell_type": "code",
   "execution_count": 5,
   "id": "46df4b5f-a1d8-43a3-9b5e-514094c2673d",
   "metadata": {},
   "outputs": [
    {
     "data": {
      "text/plain": [
       "array([0.00431466, 0.23557226, 0.6403518 , 0.08666219, 0.01172845,\n",
       "       0.02137063])"
      ]
     },
     "execution_count": 5,
     "metadata": {},
     "output_type": "execute_result"
    }
   ],
   "source": [
    "softmax"
   ]
  },
  {
   "cell_type": "code",
   "execution_count": 6,
   "id": "b909a9c3-e034-48d1-9881-1c658322fefe",
   "metadata": {},
   "outputs": [
    {
     "data": {
      "text/plain": [
       "1.0"
      ]
     },
     "execution_count": 6,
     "metadata": {},
     "output_type": "execute_result"
    }
   ],
   "source": [
    "sum(softmax)"
   ]
  },
  {
   "cell_type": "code",
   "execution_count": 7,
   "id": "37488851-0ad2-4963-a4c6-4913108e5b1c",
   "metadata": {},
   "outputs": [],
   "source": [
    "import matplotlib.pyplot as plt"
   ]
  },
  {
   "cell_type": "code",
   "execution_count": 8,
   "id": "547aecf7-b15c-47ce-a243-530fe063708a",
   "metadata": {},
   "outputs": [],
   "source": [
    "def cross_entropy_loss(y_hat, y):\n",
    "    if y==1:\n",
    "        return -np.log(y_hat)\n",
    "    else:\n",
    "        return -np.log(1-y_hat)"
   ]
  },
  {
   "cell_type": "code",
   "execution_count": 11,
   "id": "7bbd006c-446f-4413-9bb9-5667ddb57d40",
   "metadata": {},
   "outputs": [],
   "source": [
    "def sigmoid(z):\n",
    "    return 1.0 / (1.0+np.exp(-z))"
   ]
  },
  {
   "cell_type": "code",
   "execution_count": 12,
   "id": "54856594-9afe-4e2f-933e-75a8f22d0997",
   "metadata": {},
   "outputs": [],
   "source": [
    "z=np.arange(-5, 5, 0.2)"
   ]
  },
  {
   "cell_type": "code",
   "execution_count": 13,
   "id": "65001d9b-ad83-4dad-aa5e-cac545fcaeba",
   "metadata": {},
   "outputs": [],
   "source": [
    "h_z = sigmoid(z)"
   ]
  },
  {
   "cell_type": "code",
   "execution_count": 15,
   "id": "b7cf1c63-a1be-434b-8eef-bc3c5b8735d6",
   "metadata": {
    "scrolled": true
   },
   "outputs": [
    {
     "data": {
      "text/plain": [
       "array([-5. , -4.8, -4.6, -4.4, -4.2, -4. , -3.8, -3.6, -3.4, -3.2, -3. ,\n",
       "       -2.8, -2.6, -2.4, -2.2, -2. , -1.8, -1.6, -1.4, -1.2, -1. , -0.8,\n",
       "       -0.6, -0.4, -0.2,  0. ,  0.2,  0.4,  0.6,  0.8,  1. ,  1.2,  1.4,\n",
       "        1.6,  1.8,  2. ,  2.2,  2.4,  2.6,  2.8,  3. ,  3.2,  3.4,  3.6,\n",
       "        3.8,  4. ,  4.2,  4.4,  4.6,  4.8])"
      ]
     },
     "execution_count": 15,
     "metadata": {},
     "output_type": "execute_result"
    }
   ],
   "source": [
    "np.round(z, decimals=2)"
   ]
  },
  {
   "cell_type": "code",
   "execution_count": 16,
   "id": "cddaf1ff-6d42-4c6b-9798-0df32a43d763",
   "metadata": {
    "scrolled": true
   },
   "outputs": [
    {
     "data": {
      "text/plain": [
       "array([0.00669285, 0.00816257, 0.0099518 , 0.01212843, 0.01477403,\n",
       "       0.01798621, 0.02188127, 0.02659699, 0.03229546, 0.03916572,\n",
       "       0.04742587, 0.05732418, 0.06913842, 0.0831727 , 0.09975049,\n",
       "       0.11920292, 0.14185106, 0.16798161, 0.19781611, 0.23147522,\n",
       "       0.26894142, 0.31002552, 0.35434369, 0.40131234, 0.450166  ,\n",
       "       0.5       , 0.549834  , 0.59868766, 0.64565631, 0.68997448,\n",
       "       0.73105858, 0.76852478, 0.80218389, 0.83201839, 0.85814894,\n",
       "       0.88079708, 0.90024951, 0.9168273 , 0.93086158, 0.94267582,\n",
       "       0.95257413, 0.96083428, 0.96770454, 0.97340301, 0.97811873,\n",
       "       0.98201379, 0.98522597, 0.98787157, 0.9900482 , 0.99183743])"
      ]
     },
     "execution_count": 16,
     "metadata": {},
     "output_type": "execute_result"
    }
   ],
   "source": [
    "h_z"
   ]
  },
  {
   "cell_type": "code",
   "execution_count": 17,
   "id": "7bb42abc-dbea-48ec-a281-2ff2892f7d36",
   "metadata": {},
   "outputs": [],
   "source": [
    "cost_1 = cross_entropy_loss(h_z, 1)\n",
    "cost_0 = cross_entropy_loss(h_z, 0)"
   ]
  },
  {
   "cell_type": "code",
   "execution_count": 18,
   "id": "03a08b17-1afe-4bee-8fed-62e143c9467a",
   "metadata": {},
   "outputs": [
    {
     "data": {
      "image/png": "[encoded data removed]",
      "text/plain": [
       "<Figure size 640x480 with 1 Axes>"
      ]
     },
     "metadata": {},
     "output_type": "display_data"
    }
   ],
   "source": [
    "plt.plot(h_z, cost_1, label=\"y=1\")\n",
    "plt.plot(h_z, cost_0, label=\"y=0\")\n",
    "plt.legend()\n",
    "plt.show()"
   ]
  },
  {
   "cell_type": "code",
   "execution_count": null,
   "id": "a496dca4-99a5-41ac-b2af-5cd747c94c1e",
   "metadata": {},
   "outputs": [],
   "source": []
  }
 ],
 "metadata": {
  "kernelspec": {
   "display_name": "Python 3 (ipykernel)",
   "language": "python",
   "name": "python3"
  },
  "language_info": {
   "codemirror_mode": {
    "name": "ipython",
    "version": 3
   },
   "file_extension": ".py",
   "mimetype": "text/x-python",
   "name": "python",
   "nbconvert_exporter": "python",
   "pygments_lexer": "ipython3",
   "version": "3.11.7"
  },
  "widgets": {
   "application/vnd.jupyter.widget-state+json": {
    "state": {},
    "version_major": 2,
    "version_minor": 0
   }
  }
 },
 "nbformat": 4,
 "nbformat_minor": 5
}
